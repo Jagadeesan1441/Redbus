{
 "cells": [
  {
   "cell_type": "code",
   "execution_count": 2,
   "id": "5800de87",
   "metadata": {},
   "outputs": [],
   "source": [
    "import pymysql\n",
    "import pandas as pd"
   ]
  },
  {
   "cell_type": "code",
   "execution_count": 3,
   "id": "9b850448",
   "metadata": {},
   "outputs": [],
   "source": [
    "df=pd.read_csv(\"REDBUSDATA.csv\")\n"
   ]
  },
  {
   "cell_type": "code",
   "execution_count": 4,
   "id": "a4e040c5",
   "metadata": {},
   "outputs": [],
   "source": [
    "df.drop([\"Unnamed: 0\"],axis=1,inplace=True)"
   ]
  },
  {
   "cell_type": "code",
   "execution_count": 5,
   "id": "804c1f73",
   "metadata": {},
   "outputs": [
    {
     "data": {
      "text/html": [
       "<div>\n",
       "<style scoped>\n",
       "    .dataframe tbody tr th:only-of-type {\n",
       "        vertical-align: middle;\n",
       "    }\n",
       "\n",
       "    .dataframe tbody tr th {\n",
       "        vertical-align: top;\n",
       "    }\n",
       "\n",
       "    .dataframe thead th {\n",
       "        text-align: right;\n",
       "    }\n",
       "</style>\n",
       "<table border=\"1\" class=\"dataframe\">\n",
       "  <thead>\n",
       "    <tr style=\"text-align: right;\">\n",
       "      <th></th>\n",
       "      <th>state_name</th>\n",
       "      <th>route_link</th>\n",
       "      <th>route_name</th>\n",
       "      <th>busname</th>\n",
       "      <th>bustype</th>\n",
       "      <th>departing_time</th>\n",
       "      <th>duration</th>\n",
       "      <th>reaching_time</th>\n",
       "      <th>star_rating</th>\n",
       "      <th>price</th>\n",
       "      <th>seats_available</th>\n",
       "    </tr>\n",
       "  </thead>\n",
       "  <tbody>\n",
       "    <tr>\n",
       "      <th>0</th>\n",
       "      <td>ktcl</td>\n",
       "      <td>https://www.redbus.in/bus-tickets/pune-to-goa</td>\n",
       "      <td>Pune to Goa</td>\n",
       "      <td>Kadamba Transport Corporation Limited (KTCL) -...</td>\n",
       "      <td>Non AC Seater 2+2</td>\n",
       "      <td>19:00:00</td>\n",
       "      <td>10h 00m</td>\n",
       "      <td>05:00:00</td>\n",
       "      <td>4.4</td>\n",
       "      <td>600.0</td>\n",
       "      <td>32</td>\n",
       "    </tr>\n",
       "    <tr>\n",
       "      <th>1</th>\n",
       "      <td>ktcl</td>\n",
       "      <td>https://www.redbus.in/bus-tickets/pune-to-goa</td>\n",
       "      <td>Pune to Goa</td>\n",
       "      <td>Kadamba Transport Corporation Limited (KTCL) -...</td>\n",
       "      <td>A/C Sleeper (2+1)</td>\n",
       "      <td>19:15:00</td>\n",
       "      <td>10h 35m</td>\n",
       "      <td>05:50:00</td>\n",
       "      <td>3.7</td>\n",
       "      <td>900.0</td>\n",
       "      <td>16</td>\n",
       "    </tr>\n",
       "    <tr>\n",
       "      <th>2</th>\n",
       "      <td>ktcl</td>\n",
       "      <td>https://www.redbus.in/bus-tickets/pune-to-goa</td>\n",
       "      <td>Pune to Goa</td>\n",
       "      <td>Atmaram Gobus</td>\n",
       "      <td>VE A/C Sleeper (2+1)</td>\n",
       "      <td>22:30:00</td>\n",
       "      <td>10h 15m</td>\n",
       "      <td>08:45:00</td>\n",
       "      <td>4.6</td>\n",
       "      <td>801.0</td>\n",
       "      <td>3</td>\n",
       "    </tr>\n",
       "    <tr>\n",
       "      <th>3</th>\n",
       "      <td>ktcl</td>\n",
       "      <td>https://www.redbus.in/bus-tickets/pune-to-goa</td>\n",
       "      <td>Pune to Goa</td>\n",
       "      <td>Ashray Travels</td>\n",
       "      <td>Bharat Benz A/C Sleeper (2+1)</td>\n",
       "      <td>21:00:00</td>\n",
       "      <td>11h 30m</td>\n",
       "      <td>08:30:00</td>\n",
       "      <td>4.5</td>\n",
       "      <td>699.0</td>\n",
       "      <td>29</td>\n",
       "    </tr>\n",
       "    <tr>\n",
       "      <th>4</th>\n",
       "      <td>ktcl</td>\n",
       "      <td>https://www.redbus.in/bus-tickets/pune-to-goa</td>\n",
       "      <td>Pune to Goa</td>\n",
       "      <td>Ashray Amrutyog</td>\n",
       "      <td>A/C Sleeper (2+1)</td>\n",
       "      <td>22:00:00</td>\n",
       "      <td>11h 30m</td>\n",
       "      <td>09:30:00</td>\n",
       "      <td>4.4</td>\n",
       "      <td>699.0</td>\n",
       "      <td>29</td>\n",
       "    </tr>\n",
       "    <tr>\n",
       "      <th>...</th>\n",
       "      <td>...</td>\n",
       "      <td>...</td>\n",
       "      <td>...</td>\n",
       "      <td>...</td>\n",
       "      <td>...</td>\n",
       "      <td>...</td>\n",
       "      <td>...</td>\n",
       "      <td>...</td>\n",
       "      <td>...</td>\n",
       "      <td>...</td>\n",
       "      <td>...</td>\n",
       "    </tr>\n",
       "    <tr>\n",
       "      <th>5103</th>\n",
       "      <td>pepsu</td>\n",
       "      <td>https://www.redbus.in/bus-tickets/chandigarh-t...</td>\n",
       "      <td>Chandigarh to Patiala</td>\n",
       "      <td>Orbit Aviation Pvt. Ltd.</td>\n",
       "      <td>A/C Seater (2+2)</td>\n",
       "      <td>14:50:00</td>\n",
       "      <td>01h 40m</td>\n",
       "      <td>16:30:00</td>\n",
       "      <td>4.1</td>\n",
       "      <td>200.0</td>\n",
       "      <td>35</td>\n",
       "    </tr>\n",
       "    <tr>\n",
       "      <th>5104</th>\n",
       "      <td>pepsu</td>\n",
       "      <td>https://www.redbus.in/bus-tickets/chandigarh-t...</td>\n",
       "      <td>Chandigarh to Patiala</td>\n",
       "      <td>Orbit Aviation Pvt. Ltd.</td>\n",
       "      <td>A/C Seater (2+2)</td>\n",
       "      <td>16:55:00</td>\n",
       "      <td>01h 35m</td>\n",
       "      <td>18:30:00</td>\n",
       "      <td>3.5</td>\n",
       "      <td>200.0</td>\n",
       "      <td>35</td>\n",
       "    </tr>\n",
       "    <tr>\n",
       "      <th>5105</th>\n",
       "      <td>pepsu</td>\n",
       "      <td>https://www.redbus.in/bus-tickets/chandigarh-t...</td>\n",
       "      <td>Chandigarh to Patiala</td>\n",
       "      <td>Orbit Aviation Pvt. Ltd.</td>\n",
       "      <td>A/C Seater (2+2)</td>\n",
       "      <td>13:55:00</td>\n",
       "      <td>01h 45m</td>\n",
       "      <td>15:40:00</td>\n",
       "      <td>2.7</td>\n",
       "      <td>200.0</td>\n",
       "      <td>41</td>\n",
       "    </tr>\n",
       "    <tr>\n",
       "      <th>5106</th>\n",
       "      <td>pepsu</td>\n",
       "      <td>https://www.redbus.in/bus-tickets/chandigarh-t...</td>\n",
       "      <td>Chandigarh to Patiala</td>\n",
       "      <td>Orbit Aviation Pvt. Ltd.</td>\n",
       "      <td>A/C Seater (2+2)</td>\n",
       "      <td>15:25:00</td>\n",
       "      <td>01h 20m</td>\n",
       "      <td>16:45:00</td>\n",
       "      <td>2.2</td>\n",
       "      <td>200.0</td>\n",
       "      <td>27</td>\n",
       "    </tr>\n",
       "    <tr>\n",
       "      <th>5107</th>\n",
       "      <td>pepsu</td>\n",
       "      <td>https://www.redbus.in/bus-tickets/chandigarh-t...</td>\n",
       "      <td>Chandigarh to Patiala</td>\n",
       "      <td>NEW FATEH BUS SERVICE</td>\n",
       "      <td>Volvo A/C Semi Sleeper (2+2)</td>\n",
       "      <td>16:25:00</td>\n",
       "      <td>01h 35m</td>\n",
       "      <td>18:00:00</td>\n",
       "      <td>4.4</td>\n",
       "      <td>600.0</td>\n",
       "      <td>30</td>\n",
       "    </tr>\n",
       "  </tbody>\n",
       "</table>\n",
       "<p>5108 rows × 11 columns</p>\n",
       "</div>"
      ],
      "text/plain": [
       "     state_name                                         route_link  \\\n",
       "0          ktcl      https://www.redbus.in/bus-tickets/pune-to-goa   \n",
       "1          ktcl      https://www.redbus.in/bus-tickets/pune-to-goa   \n",
       "2          ktcl      https://www.redbus.in/bus-tickets/pune-to-goa   \n",
       "3          ktcl      https://www.redbus.in/bus-tickets/pune-to-goa   \n",
       "4          ktcl      https://www.redbus.in/bus-tickets/pune-to-goa   \n",
       "...         ...                                                ...   \n",
       "5103      pepsu  https://www.redbus.in/bus-tickets/chandigarh-t...   \n",
       "5104      pepsu  https://www.redbus.in/bus-tickets/chandigarh-t...   \n",
       "5105      pepsu  https://www.redbus.in/bus-tickets/chandigarh-t...   \n",
       "5106      pepsu  https://www.redbus.in/bus-tickets/chandigarh-t...   \n",
       "5107      pepsu  https://www.redbus.in/bus-tickets/chandigarh-t...   \n",
       "\n",
       "                 route_name  \\\n",
       "0               Pune to Goa   \n",
       "1               Pune to Goa   \n",
       "2               Pune to Goa   \n",
       "3               Pune to Goa   \n",
       "4               Pune to Goa   \n",
       "...                     ...   \n",
       "5103  Chandigarh to Patiala   \n",
       "5104  Chandigarh to Patiala   \n",
       "5105  Chandigarh to Patiala   \n",
       "5106  Chandigarh to Patiala   \n",
       "5107  Chandigarh to Patiala   \n",
       "\n",
       "                                                busname  \\\n",
       "0     Kadamba Transport Corporation Limited (KTCL) -...   \n",
       "1     Kadamba Transport Corporation Limited (KTCL) -...   \n",
       "2                                         Atmaram Gobus   \n",
       "3                                        Ashray Travels   \n",
       "4                                       Ashray Amrutyog   \n",
       "...                                                 ...   \n",
       "5103                           Orbit Aviation Pvt. Ltd.   \n",
       "5104                           Orbit Aviation Pvt. Ltd.   \n",
       "5105                           Orbit Aviation Pvt. Ltd.   \n",
       "5106                           Orbit Aviation Pvt. Ltd.   \n",
       "5107                              NEW FATEH BUS SERVICE   \n",
       "\n",
       "                            bustype departing_time duration reaching_time  \\\n",
       "0                 Non AC Seater 2+2       19:00:00  10h 00m      05:00:00   \n",
       "1                 A/C Sleeper (2+1)       19:15:00  10h 35m      05:50:00   \n",
       "2              VE A/C Sleeper (2+1)       22:30:00  10h 15m      08:45:00   \n",
       "3     Bharat Benz A/C Sleeper (2+1)       21:00:00  11h 30m      08:30:00   \n",
       "4                 A/C Sleeper (2+1)       22:00:00  11h 30m      09:30:00   \n",
       "...                             ...            ...      ...           ...   \n",
       "5103               A/C Seater (2+2)       14:50:00  01h 40m      16:30:00   \n",
       "5104               A/C Seater (2+2)       16:55:00  01h 35m      18:30:00   \n",
       "5105               A/C Seater (2+2)       13:55:00  01h 45m      15:40:00   \n",
       "5106               A/C Seater (2+2)       15:25:00  01h 20m      16:45:00   \n",
       "5107   Volvo A/C Semi Sleeper (2+2)       16:25:00  01h 35m      18:00:00   \n",
       "\n",
       "      star_rating  price  seats_available  \n",
       "0             4.4  600.0               32  \n",
       "1             3.7  900.0               16  \n",
       "2             4.6  801.0                3  \n",
       "3             4.5  699.0               29  \n",
       "4             4.4  699.0               29  \n",
       "...           ...    ...              ...  \n",
       "5103          4.1  200.0               35  \n",
       "5104          3.5  200.0               35  \n",
       "5105          2.7  200.0               41  \n",
       "5106          2.2  200.0               27  \n",
       "5107          4.4  600.0               30  \n",
       "\n",
       "[5108 rows x 11 columns]"
      ]
     },
     "execution_count": 5,
     "metadata": {},
     "output_type": "execute_result"
    }
   ],
   "source": [
    "df"
   ]
  },
  {
   "cell_type": "code",
   "execution_count": 6,
   "id": "37682c27",
   "metadata": {},
   "outputs": [],
   "source": [
    "myconnection = pymysql.connect(host='127.0.0.1',user='root',passwd='1441')"
   ]
  },
  {
   "cell_type": "code",
   "execution_count": 7,
   "id": "d6ebb21b",
   "metadata": {},
   "outputs": [
    {
     "data": {
      "text/plain": [
       "1"
      ]
     },
     "execution_count": 7,
     "metadata": {},
     "output_type": "execute_result"
    }
   ],
   "source": [
    "myconnection.cursor().execute(\"create database redbusscrape\")"
   ]
  },
  {
   "cell_type": "code",
   "execution_count": 8,
   "id": "31a99d2f",
   "metadata": {},
   "outputs": [
    {
     "data": {
      "text/plain": [
       "0"
      ]
     },
     "execution_count": 8,
     "metadata": {},
     "output_type": "execute_result"
    }
   ],
   "source": [
    "myconnection.cursor().execute(\" use redbusscrape\")"
   ]
  },
  {
   "cell_type": "code",
   "execution_count": 9,
   "id": "2973c07a",
   "metadata": {},
   "outputs": [],
   "source": [
    "#'float64': 'FLOAT','int64': 'INT','object': 'VARCHAR(255)',  # You may need to adjust the length based on your data\n",
    "   # 'bool': 'BOOLEAN'\n",
    "a=\",\".join(f\"{i} {j}\"\n",
    "for i,j in zip(df.columns,df.dtypes)).replace(\"float64\",\"float\").replace(\"int64\",\"int\").replace(\"object\",\"VARCHAR(255)\")"
   ]
  },
  {
   "cell_type": "code",
   "execution_count": 10,
   "id": "2be5217e",
   "metadata": {},
   "outputs": [
    {
     "data": {
      "text/plain": [
       "'create table busdata (state_name VARCHAR(255),route_link VARCHAR(255),route_name VARCHAR(255),busname VARCHAR(255),bustype VARCHAR(255),departing_time VARCHAR(255),duration VARCHAR(255),reaching_time VARCHAR(255),star_rating float,price float,seats_available int)'"
      ]
     },
     "execution_count": 10,
     "metadata": {},
     "output_type": "execute_result"
    }
   ],
   "source": [
    "f\"create table busdata ({a})\""
   ]
  },
  {
   "cell_type": "code",
   "execution_count": 11,
   "id": "bf48d859",
   "metadata": {},
   "outputs": [
    {
     "data": {
      "text/plain": [
       "0"
      ]
     },
     "execution_count": 11,
     "metadata": {},
     "output_type": "execute_result"
    }
   ],
   "source": [
    "myconnection.cursor().execute('create table busdata (state_name VARCHAR(255),route_link VARCHAR(255),route_name VARCHAR(255),busname VARCHAR(255),bustype VARCHAR(255),departing_time VARCHAR(255),duration VARCHAR(255),reaching_time VARCHAR(255),star_rating float,price float,seats_available int)')"
   ]
  },
  {
   "cell_type": "code",
   "execution_count": 12,
   "id": "95408415",
   "metadata": {},
   "outputs": [],
   "source": [
    "insert_query=\"\"\" INSERT INTO busdata (state_name, route_link, route_name, busname, bustype,\n",
    "       departing_time, duration, reaching_time, star_rating, price,\n",
    "       seats_available) VALUES (%s,%s,%s,%s,%s,%s,%s,%s,%s,%s,%s) \"\"\""
   ]
  },
  {
   "cell_type": "code",
   "execution_count": 16,
   "id": "f7635417",
   "metadata": {},
   "outputs": [],
   "source": [
    "for index,row in df.iterrows():\n",
    "    myconnection.cursor().execute(insert_query,(row['state_name'],row['route_link'],row['route_name'],row['busname'],row['bustype'],row['departing_time'],row['duration'],\n",
    "                                                row['reaching_time'],row['star_rating'],row['price'],row['seats_available']))"
   ]
  },
  {
   "cell_type": "code",
   "execution_count": 17,
   "id": "94be8456",
   "metadata": {},
   "outputs": [],
   "source": [
    "myconnection.commit()"
   ]
  }
 ],
 "metadata": {
  "kernelspec": {
   "display_name": "Python 3 (ipykernel)",
   "language": "python",
   "name": "python3"
  },
  "language_info": {
   "codemirror_mode": {
    "name": "ipython",
    "version": 3
   },
   "file_extension": ".py",
   "mimetype": "text/x-python",
   "name": "python",
   "nbconvert_exporter": "python",
   "pygments_lexer": "ipython3",
   "version": "3.9.7"
  }
 },
 "nbformat": 4,
 "nbformat_minor": 5
}
